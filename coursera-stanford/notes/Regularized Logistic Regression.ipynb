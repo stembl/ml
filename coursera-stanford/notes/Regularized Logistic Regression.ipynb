{
 "cells": [
  {
   "cell_type": "markdown",
   "metadata": {},
   "source": [
    "Implementing the first three weeks of the Coursera Stanford Machine learning class"
   ]
  },
  {
   "cell_type": "code",
   "execution_count": 1,
   "metadata": {
    "collapsed": true
   },
   "outputs": [],
   "source": [
    "import scipy as sp\n",
    "import matplotlib.pyplot as plt\n",
    "\n"
   ]
  },
  {
   "cell_type": "markdown",
   "metadata": {
    "collapsed": false
   },
   "source": [
    "## Functions"
   ]
  },
  {
   "cell_type": "code",
   "execution_count": 2,
   "metadata": {
    "collapsed": true
   },
   "outputs": [],
   "source": [
    "def sigmoid(z):\n",
    "    '''\n",
    "    Compute the Sigmoid function\n",
    "    \n",
    "    g = sigmoid(z) returns the sigmoid of z\n",
    "    \n",
    "    z can be a matrix, vector, or scalar\n",
    "    '''\n",
    "    from scipy import exp\n",
    "    \n",
    "    g = 1/(1 + exp(-z))\n",
    "    \n",
    "    return(g)"
   ]
  },
  {
   "cell_type": "code",
   "execution_count": 3,
   "metadata": {
    "collapsed": false
   },
   "outputs": [],
   "source": [
    "def costLogReg (theta, X, y):\n",
    "    '''\n",
    "    Return the cost [J] for a logistic regression.\n",
    "    \n",
    "    theta ~ Hypothesis parameters for the regularized logistic regression\n",
    "    X     ~ Input values\n",
    "    y     ~ Output variables or features\n",
    "    '''\n",
    "    \n",
    "    X = sp.matrix(X)    # matrix([number of training example, number of features])\n",
    "    # m ~ number of training examples\n",
    "    # n ~ number of features\n",
    "    [m, n] = X.shape\n",
    "    \n",
    "    y = sp.matrix(y).reshape([m, 1])    # matrix([number of training examples, 1])\n",
    "    \n",
    "    # Initialize variables\n",
    "    J = 0\n",
    "        \n",
    "    # Hypothesis function for logistic regression\n",
    "    h = sigmoid(sp.dot(X, theta)).reshape([m,1])\n",
    "\n",
    "    J = (1/m) * (sp.dot(-y.T , sp.log(h)) - sp.dot((1 - y.T) , sp.log(1 - h)))\n",
    "    \n",
    "    return(J)"
   ]
  },
  {
   "cell_type": "code",
   "execution_count": 4,
   "metadata": {
    "collapsed": false
   },
   "outputs": [],
   "source": [
    "def costwReg (theta, X, y, lam):\n",
    "    '''\n",
    "    Return the cost and gradient [J, grad] for a logistic regression with regularization.\n",
    "    \n",
    "    This function adds the effects of regularization to the results of the costLogReg function.\n",
    "    \n",
    "    theta ~ Hypothesis parameters for the regularized logistic regression\n",
    "    X     ~ Input values\n",
    "    y     ~ Output variables or features\n",
    "    lam   ~ (lambda) Regularization parameter\n",
    "    '''\n",
    "    \n",
    "    X = sp.matrix(X)    # matrix([number of training example, number of features])\n",
    "    # m ~ number of training examples\n",
    "    # n ~ number of features\n",
    "    [m, n] = X.shape\n",
    "    \n",
    "    y = sp.matrix(y).reshape([m, 1])    # matrix([number of training examples, 1])\n",
    "    \n",
    "    # Lambda should not be applied to theta_0\n",
    "    theta_reg = sp.array(theta)\n",
    "    theta_reg[0] = 0\n",
    "    \n",
    "    J = costLogReg(theta, X, y)\n",
    "   \n",
    "    J = J + lam / (2*m) *sp.dot(theta_reg.T, theta_reg)\n",
    "    \n",
    "    return(J)"
   ]
  },
  {
   "cell_type": "code",
   "execution_count": 5,
   "metadata": {
    "collapsed": true
   },
   "outputs": [],
   "source": [
    "def gradLogReg (theta, X, y):\n",
    "    '''\n",
    "    Return gradient [grad] for a logistic regression.\n",
    "    \n",
    "    theta ~ Hypothesis parameters for the regularized logistic regression\n",
    "    X     ~ Input values\n",
    "    y     ~ Output variables or features\n",
    "    '''\n",
    "    \n",
    "    X = sp.matrix(X)    # matrix([number of training example, number of features])\n",
    "    # m ~ number of training examples\n",
    "    # n ~ number of features\n",
    "    [m, n] = X.shape\n",
    "    \n",
    "    y = sp.matrix(y).reshape([m, 1])    # matrix([number of training examples, 1])\n",
    "    \n",
    "    # Initialize variables\n",
    "    J = 0\n",
    "    grad = sp.zeros([n,1])\n",
    "    \n",
    "    # Hypothesis function for logistic regression\n",
    "    \n",
    "    h = sigmoid(sp.dot(X, theta)).reshape([m, 1])\n",
    "    \n",
    "    grad = (1/m) * sp.dot(X.T , (h - y))\n",
    "    \n",
    "    return(grad)"
   ]
  },
  {
   "cell_type": "code",
   "execution_count": 6,
   "metadata": {
    "collapsed": true
   },
   "outputs": [],
   "source": [
    "def gradwReg (theta, X, y, lam):\n",
    "    '''\n",
    "    Return the cost and gradient [J, grad] for a logistic regression with regularization.\n",
    "    \n",
    "    This function adds the effects of regularization to the results of the costLogReg function.\n",
    "    \n",
    "    theta ~ Hypothesis parameters for the regularized logistic regression\n",
    "    X     ~ Input values\n",
    "    y     ~ Output variables or features\n",
    "    lam   ~ (lambda) Regularization parameter\n",
    "    '''\n",
    "    \n",
    "    X = sp.matrix(X)    # matrix([number of training example, number of features])\n",
    "    y = sp.matrix(y)    # matrix([1, number of training examples])\n",
    "    \n",
    "    # m ~ number of training examples\n",
    "    # n ~ number of features\n",
    "    [m, n] = X.shape\n",
    "    \n",
    "    # Lambda should not be applied to theta_0\n",
    "    theta_reg = sp.array(theta)\n",
    "    theta_reg[0] = 0\n",
    "    \n",
    "    grad = gradLogReg(theta, X, y)\n",
    "    \n",
    "    grad = grad + (lam * theta_reg / m)\n",
    "    \n",
    "    return([j for i in grad.tolist() for j in i])"
   ]
  },
  {
   "cell_type": "code",
   "execution_count": 7,
   "metadata": {
    "collapsed": false
   },
   "outputs": [],
   "source": [
    "def plotData(X, y):\n",
    "    '''\n",
    "    Plots the datapoints X and y into a new figure.\n",
    "    \n",
    "    Assumes \n",
    "    * X is an M x 2 matrix\n",
    "    * y is a series consisting of 1s and 0s\n",
    "    '''\n",
    "    \n",
    "    import matplotlib.pyplot as plt\n",
    "    \n",
    "    pos = X[y==1]\n",
    "    neg = X[y==0]\n",
    "    \n",
    "    plt.figure()\n",
    "    plt.plot(pos[0],pos[1], 'yo', label='y = 1')\n",
    "    plt.plot(neg[0],neg[1], 'k+', label='y = 0')"
   ]
  },
  {
   "cell_type": "code",
   "execution_count": 8,
   "metadata": {
    "collapsed": true
   },
   "outputs": [],
   "source": [
    "def mapFeature(X1, X2):\n",
    "    '''\n",
    "    Maps the input features to polynomial features\n",
    "    \n",
    "    '''\n",
    "    \n",
    "    degree = 6\n",
    "    \n",
    "    mappedX = sp.ones([len(X1), 1])\n",
    "\n",
    "    for i in range(degree):\n",
    "        for j in range(0,i+2):\n",
    "            mappedX = sp.append(mappedX, (X1**(i+1-j) * X2**j).reshape([len(X1), 1]), axis=1)\n",
    "\n",
    "    return(mappedX)"
   ]
  },
  {
   "cell_type": "code",
   "execution_count": 9,
   "metadata": {
    "collapsed": false
   },
   "outputs": [
    {
     "ename": "NameError",
     "evalue": "name 'X1' is not defined",
     "output_type": "error",
     "traceback": [
      "\u001b[1;31m---------------------------------------------------------------------------\u001b[0m",
      "\u001b[1;31mNameError\u001b[0m                                 Traceback (most recent call last)",
      "\u001b[1;32m<ipython-input-9-6641b5e27ac4>\u001b[0m in \u001b[0;36m<module>\u001b[1;34m()\u001b[0m\n\u001b[1;32m----> 1\u001b[1;33m \u001b[0mmappedX\u001b[0m \u001b[1;33m=\u001b[0m \u001b[0msp\u001b[0m\u001b[1;33m.\u001b[0m\u001b[0mones\u001b[0m\u001b[1;33m(\u001b[0m\u001b[1;33m[\u001b[0m\u001b[0mlen\u001b[0m\u001b[1;33m(\u001b[0m\u001b[0mX1\u001b[0m\u001b[1;33m)\u001b[0m\u001b[1;33m,\u001b[0m \u001b[1;36m1\u001b[0m\u001b[1;33m]\u001b[0m\u001b[1;33m)\u001b[0m\u001b[1;33m\u001b[0m\u001b[0m\n\u001b[0m\u001b[0;32m      2\u001b[0m \u001b[0mdegree\u001b[0m \u001b[1;33m=\u001b[0m \u001b[1;36m6\u001b[0m\u001b[1;33m\u001b[0m\u001b[0m\n\u001b[0;32m      3\u001b[0m \u001b[1;33m\u001b[0m\u001b[0m\n\u001b[0;32m      4\u001b[0m \u001b[1;32mfor\u001b[0m \u001b[0mi\u001b[0m \u001b[1;32min\u001b[0m \u001b[0mrange\u001b[0m\u001b[1;33m(\u001b[0m\u001b[0mdegree\u001b[0m\u001b[1;33m)\u001b[0m\u001b[1;33m:\u001b[0m\u001b[1;33m\u001b[0m\u001b[0m\n\u001b[0;32m      5\u001b[0m         \u001b[1;32mfor\u001b[0m \u001b[0mj\u001b[0m \u001b[1;32min\u001b[0m \u001b[0mrange\u001b[0m\u001b[1;33m(\u001b[0m\u001b[1;36m0\u001b[0m\u001b[1;33m,\u001b[0m\u001b[0mi\u001b[0m\u001b[1;33m+\u001b[0m\u001b[1;36m2\u001b[0m\u001b[1;33m)\u001b[0m\u001b[1;33m:\u001b[0m\u001b[1;33m\u001b[0m\u001b[0m\n",
      "\u001b[1;31mNameError\u001b[0m: name 'X1' is not defined"
     ]
    }
   ],
   "source": [
    "mappedX = sp.ones([len(X1), 1])\n",
    "degree = 6\n",
    "\n",
    "for i in range(degree):\n",
    "        for j in range(0,i+2):\n",
    "            mappedX = sp.append(mappedX, (X1**(i+1-j) * X2**j).reshape([len(X1), 1]), axis=1)\n"
   ]
  },
  {
   "cell_type": "code",
   "execution_count": null,
   "metadata": {
    "collapsed": false
   },
   "outputs": [],
   "source": []
  },
  {
   "cell_type": "code",
   "execution_count": null,
   "metadata": {
    "collapsed": false
   },
   "outputs": [],
   "source": []
  },
  {
   "cell_type": "markdown",
   "metadata": {
    "collapsed": false
   },
   "source": [
    "## Test"
   ]
  },
  {
   "cell_type": "code",
   "execution_count": null,
   "metadata": {
    "collapsed": false
   },
   "outputs": [],
   "source": [
    "import pandas as pd\n",
    "%matplotlib inline\n"
   ]
  },
  {
   "cell_type": "code",
   "execution_count": null,
   "metadata": {
    "collapsed": false
   },
   "outputs": [],
   "source": [
    "data = pd.read_csv('C:\\work\\ml\\coursera-stanford\\exercises\\ex2\\ex2data2.txt', header=None)\n",
    "X = data.iloc[:,:2]\n",
    "y = data.iloc[:,2]\n",
    "plotData(X,y)\n",
    "plt.xlabel('Microchip Test 1')\n",
    "plt.ylabel('Mircochip Test 2')\n",
    "plt.legend(loc='best', numpoints=1)"
   ]
  },
  {
   "cell_type": "code",
   "execution_count": null,
   "metadata": {
    "collapsed": false
   },
   "outputs": [],
   "source": [
    "X = data.iloc[:,:2]\n",
    "y = data.iloc[:,2].values\n",
    "X1 = X.iloc[:,0]\n",
    "X2 = X.iloc[:,1]\n",
    "\n",
    "X0 = mapFeature(X1, X2)\n",
    "initial_theta = sp.zeros([X0.shape[1], 1])\n",
    "lam = 1\n",
    "cost = costwReg(initial_theta, X0, y, lam)\n",
    "grad = gradwReg(initial_theta, X0, y, lam)"
   ]
  },
  {
   "cell_type": "code",
   "execution_count": null,
   "metadata": {
    "collapsed": false
   },
   "outputs": [],
   "source": [
    "print(cost)\n",
    "print(grad[:5])"
   ]
  },
  {
   "cell_type": "code",
   "execution_count": null,
   "metadata": {
    "collapsed": false
   },
   "outputs": [],
   "source": [
    "cost = costwReg(initial_theta+1, X0, y, 10)\n",
    "grad = gradwReg(initial_theta+1, X0, y, 10)\n",
    "print(cost)\n",
    "print(grad[:5])"
   ]
  },
  {
   "cell_type": "code",
   "execution_count": null,
   "metadata": {
    "collapsed": false
   },
   "outputs": [],
   "source": [
    "import scipy.optimize as opt"
   ]
  },
  {
   "cell_type": "code",
   "execution_count": null,
   "metadata": {
    "collapsed": false
   },
   "outputs": [],
   "source": [
    "result = opt.fmin_tnc(func=costwReg, x0=initial_theta, fprime=gradwReg, args=(X0, y, lam))"
   ]
  },
  {
   "cell_type": "code",
   "execution_count": null,
   "metadata": {
    "collapsed": false
   },
   "outputs": [],
   "source": [
    "type(grad[0])"
   ]
  },
  {
   "cell_type": "code",
   "execution_count": null,
   "metadata": {
    "collapsed": false
   },
   "outputs": [],
   "source": [
    "a = [j for i in grad.tolist() for j in i]"
   ]
  },
  {
   "cell_type": "code",
   "execution_count": 10,
   "metadata": {
    "collapsed": true
   },
   "outputs": [],
   "source": [
    "import antigravity"
   ]
  },
  {
   "cell_type": "code",
   "execution_count": null,
   "metadata": {
    "collapsed": false,
    "scrolled": false
   },
   "outputs": [],
   "source": []
  },
  {
   "cell_type": "code",
   "execution_count": null,
   "metadata": {
    "collapsed": false
   },
   "outputs": [],
   "source": [
    "type(a[0])"
   ]
  },
  {
   "cell_type": "code",
   "execution_count": null,
   "metadata": {
    "collapsed": false,
    "scrolled": false
   },
   "outputs": [],
   "source": [
    "help(opt.fmin_tnc)"
   ]
  },
  {
   "cell_type": "code",
   "execution_count": null,
   "metadata": {
    "collapsed": true
   },
   "outputs": [],
   "source": []
  }
 ],
 "metadata": {
  "anaconda-cloud": {},
  "kernelspec": {
   "display_name": "Python [Root]",
   "language": "python",
   "name": "Python [Root]"
  },
  "language_info": {
   "codemirror_mode": {
    "name": "ipython",
    "version": 3
   },
   "file_extension": ".py",
   "mimetype": "text/x-python",
   "name": "python",
   "nbconvert_exporter": "python",
   "pygments_lexer": "ipython3",
   "version": "3.5.2"
  }
 },
 "nbformat": 4,
 "nbformat_minor": 0
}
