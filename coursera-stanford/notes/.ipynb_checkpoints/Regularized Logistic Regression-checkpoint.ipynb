{
 "cells": [
  {
   "cell_type": "markdown",
   "metadata": {},
   "source": [
    "Implementing the first three weeks of the Coursera Stanford Machine learning class"
   ]
  },
  {
   "cell_type": "code",
   "execution_count": 4,
   "metadata": {
    "collapsed": false
   },
   "outputs": [],
   "source": [
    "#import scipy as sp\n",
    "from scipy import exp, dot, log, array, asarray, linspace, zeros, ones, append\n",
    "import matplotlib.pyplot as plt"
   ]
  },
  {
   "cell_type": "markdown",
   "metadata": {
    "collapsed": false
   },
   "source": [
    "## Functions"
   ]
  },
  {
   "cell_type": "code",
   "execution_count": 5,
   "metadata": {
    "collapsed": true
   },
   "outputs": [],
   "source": [
    "def sigmoid(z):\n",
    "    '''\n",
    "    Compute the Sigmoid function\n",
    "    \n",
    "    g = sigmoid(z) returns the sigmoid of z\n",
    "    \n",
    "    z can be a matrix, vector, or scalar\n",
    "    '''\n",
    "    \n",
    "    g = 1/(1 + exp(-z))\n",
    "    \n",
    "    return(g)"
   ]
  },
  {
   "cell_type": "code",
   "execution_count": 19,
   "metadata": {
    "collapsed": false
   },
   "outputs": [],
   "source": [
    "def costLogReg (theta, X, y):\n",
    "    '''\n",
    "    Return the cost [J] for a logistic regression.\n",
    "    \n",
    "    theta ~ Hypothesis parameters for the regularized logistic regression\n",
    "    X     ~ Input values\n",
    "    y     ~ Output variables or features\n",
    "    '''\n",
    "    \n",
    "    # m ~ number of training examples\n",
    "    # n ~ number of features\n",
    "    [m, n] = X.shape\n",
    "     \n",
    "    # Initialize variables\n",
    "    J = 0\n",
    "        \n",
    "    # Hypothesis function for logistic regression\n",
    "    h = sigmoid(dot(X, theta))\n",
    "\n",
    "    J = (1/m) * (dot(-y.T , log(h)) - dot((1 - y.T) , log(1 - h)))\n",
    "    \n",
    "    return(J)"
   ]
  },
  {
   "cell_type": "code",
   "execution_count": 20,
   "metadata": {
    "collapsed": false
   },
   "outputs": [],
   "source": [
    "def costwReg (theta, X, y, lam):\n",
    "    '''\n",
    "    Return the cost and gradient [J, grad] for a logistic regression with regularization.\n",
    "    \n",
    "    This function adds the effects of regularization to the results of the costLogReg function.\n",
    "    \n",
    "    theta ~ Hypothesis parameters for the regularized logistic regression\n",
    "    X     ~ Input values\n",
    "    y     ~ Output variables or features\n",
    "    lam   ~ (lambda) Regularization parameter\n",
    "    '''\n",
    "    \n",
    "    # m ~ number of training examples\n",
    "    # n ~ number of features\n",
    "    [m, n] = X.shape\n",
    "        \n",
    "    # Lambda should not be applied to theta_0\n",
    "    theta_reg = array(theta)\n",
    "    theta_reg[0] = 0\n",
    "    \n",
    "    J = costLogReg(theta, X, y)\n",
    "   \n",
    "    J = J + lam / (2*m) *dot(theta_reg.T, theta_reg)\n",
    "    \n",
    "    return(J)"
   ]
  },
  {
   "cell_type": "code",
   "execution_count": 21,
   "metadata": {
    "collapsed": false
   },
   "outputs": [],
   "source": [
    "def gradLogReg (theta, X, y):\n",
    "    '''\n",
    "    Return gradient [grad] for a logistic regression.\n",
    "    \n",
    "    theta ~ Hypothesis parameters for the regularized logistic regression\n",
    "    X     ~ Input values\n",
    "    y     ~ Output variables or features\n",
    "    '''\n",
    "    \n",
    "    # m ~ number of training examples\n",
    "    # n ~ number of features\n",
    "    [m, n] = X.shape\n",
    "    \n",
    "    # Initialize variables\n",
    "    J = 0\n",
    "    grad = zeros(n)\n",
    "    \n",
    "    # Hypothesis function for logistic regression\n",
    "    \n",
    "    h = sigmoid(dot(X, theta))\n",
    "    \n",
    "    grad = (1/m) * dot(X.T , (h - y))\n",
    "    \n",
    "    return(grad)"
   ]
  },
  {
   "cell_type": "code",
   "execution_count": 22,
   "metadata": {
    "collapsed": true
   },
   "outputs": [],
   "source": [
    "def gradwReg (theta, X, y, lam):\n",
    "    '''\n",
    "    Return the cost and gradient [J, grad] for a logistic regression with regularization.\n",
    "    \n",
    "    This function adds the effects of regularization to the results of the costLogReg function.\n",
    "    \n",
    "    theta ~ Hypothesis parameters for the regularized logistic regression\n",
    "    X     ~ Input values\n",
    "    y     ~ Output variables or features\n",
    "    lam   ~ (lambda) Regularization parameter\n",
    "    '''\n",
    "        \n",
    "    # m ~ number of training examples\n",
    "    # n ~ number of features\n",
    "    [m, n] = X.shape\n",
    "    \n",
    "    # Lambda should not be applied to theta_0\n",
    "    theta_reg = array(theta)\n",
    "    theta_reg[0] = 0\n",
    "    \n",
    "    grad = gradLogReg(theta, X, y)\n",
    "    \n",
    "    grad = grad + (lam * theta_reg / m)\n",
    "    \n",
    "    return(grad)"
   ]
  },
  {
   "cell_type": "code",
   "execution_count": 23,
   "metadata": {
    "collapsed": false
   },
   "outputs": [],
   "source": [
    "def plotData(X, y):\n",
    "    '''\n",
    "    Plots the datapoints X and y into a new figure.\n",
    "    \n",
    "    Assumes \n",
    "    * X is an M x 2 matrix\n",
    "    * y is a series consisting of 1s and 0s\n",
    "    '''\n",
    "    X = asarray(X)\n",
    "    y = asarray(y)\n",
    "    \n",
    "    pos = X[y==1]\n",
    "    neg = X[y==0]\n",
    "    \n",
    "    plt.figure()\n",
    "    plt.plot(pos[:,0],pos[:,1], 'yo', label='y = 1')\n",
    "    plt.plot(neg[:,0],neg[:,1], 'k+', label='y = 0')"
   ]
  },
  {
   "cell_type": "code",
   "execution_count": 24,
   "metadata": {
    "collapsed": true
   },
   "outputs": [],
   "source": [
    "def mapFeature(X1, X2, degree=6):\n",
    "    '''\n",
    "    Maps the input features to polynomial features\n",
    "    \n",
    "    '''    \n",
    "    mappedX = ones([(X1).size, 1])\n",
    "\n",
    "    for i in range(degree):\n",
    "        for j in range(0,i+2):\n",
    "            mappedX = append(mappedX, (X1**(i+1-j) * X2**j).reshape([X1.size, 1]), axis=1)\n",
    "\n",
    "    return(mappedX)"
   ]
  },
  {
   "cell_type": "code",
   "execution_count": 25,
   "metadata": {
    "collapsed": false,
    "scrolled": true
   },
   "outputs": [],
   "source": [
    "def plotDecisionBoundary(theta, X, y, degree=6):\n",
    "\n",
    "    X0 = X[:,1:3]\n",
    "\n",
    "    plotData(X0, y)\n",
    "\n",
    "    if X.shape[1] <= 3:\n",
    "        print('Error, Need to code this section')\n",
    "\n",
    "    else:\n",
    "        # Grid Range\n",
    "        u = linspace(-1, 1.5, 50)\n",
    "        v = linspace(-1, 1.5, 50)\n",
    "\n",
    "        z = zeros([len(u), len(v)])\n",
    "\n",
    "        # Evaluate z = theta*x over the grid\n",
    "        for i in range(len(u)):\n",
    "            for j in range(len(v)):\n",
    "                z[i,j] = dot(mapFeature(asarray(u[i]), asarray(v[j]), degree), theta)\n",
    "\n",
    "        # Transpose z before calling contour\n",
    "        z = z.T\n",
    "        \n",
    "        CS = plt.contour(u, v, z, 0, label='Decision Boundary')\n",
    "        #plt.clabel(CS, inline=1, fontsize=10)"
   ]
  },
  {
   "cell_type": "markdown",
   "metadata": {
    "collapsed": false
   },
   "source": [
    "## Test"
   ]
  },
  {
   "cell_type": "code",
   "execution_count": 26,
   "metadata": {
    "collapsed": false
   },
   "outputs": [],
   "source": [
    "import pandas as pd\n",
    "%matplotlib inline\n"
   ]
  },
  {
   "cell_type": "code",
   "execution_count": 27,
   "metadata": {
    "collapsed": false
   },
   "outputs": [
    {
     "data": {
      "text/plain": [
       "<matplotlib.legend.Legend at 0x9f74208>"
      ]
     },
     "execution_count": 27,
     "metadata": {},
     "output_type": "execute_result"
    },
    {
     "data": {
      "image/png": "[encoded data removed]",
      "text/plain": [
       "<matplotlib.figure.Figure at 0x9f74b38>"
      ]
     },
     "metadata": {},
     "output_type": "display_data"
    }
   ],
   "source": [
    "data = pd.read_csv('C:\\work\\ml\\coursera-stanford\\exercises\\ex2\\ex2data2.txt', header=None)\n",
    "X = data.iloc[:,:2]\n",
    "y = data.iloc[:,2]\n",
    "plotData(X,y)\n",
    "plt.xlabel('Microchip Test 1')\n",
    "plt.ylabel('Mircochip Test 2')\n",
    "plt.legend(loc='best', numpoints=1)"
   ]
  },
  {
   "cell_type": "code",
   "execution_count": 28,
   "metadata": {
    "collapsed": false
   },
   "outputs": [],
   "source": [
    "X = data.iloc[:,:2]\n",
    "y = data.iloc[:,2]\n",
    "X1 = X.iloc[:,0]\n",
    "X2 = X.iloc[:,1]\n",
    "\n",
    "X0 = mapFeature(X1, X2)\n",
    "y0 = array(y.values)\n",
    "initial_theta = zeros(X0.shape[1])\n",
    "lam = 1\n",
    "cost = costwReg(initial_theta, X0, y0, lam)\n",
    "grad = gradwReg(initial_theta, X0, y0, lam)"
   ]
  },
  {
   "cell_type": "code",
   "execution_count": 29,
   "metadata": {
    "collapsed": false,
    "scrolled": true
   },
   "outputs": [
    {
     "name": "stdout",
     "output_type": "stream",
     "text": [
      "0.69314718056\n",
      "[  8.47457627e-03   1.87880932e-02   7.77711864e-05   5.03446395e-02\n",
      "   1.15013308e-02]\n"
     ]
    }
   ],
   "source": [
    "print(cost)\n",
    "print(grad[:5])"
   ]
  },
  {
   "cell_type": "code",
   "execution_count": 30,
   "metadata": {
    "collapsed": false,
    "scrolled": true
   },
   "outputs": [
    {
     "name": "stdout",
     "output_type": "stream",
     "text": [
      "3.16450933162\n",
      "[ 0.34604507  0.16135192  0.19479576  0.22686278  0.09218568]\n"
     ]
    }
   ],
   "source": [
    "cost2 = costwReg(initial_theta+1, X0, y0, 10)\n",
    "grad2 = gradwReg(initial_theta+1, X0, y0, 10)\n",
    "print(cost2)\n",
    "print(grad2[:5])"
   ]
  },
  {
   "cell_type": "code",
   "execution_count": 31,
   "metadata": {
    "collapsed": false
   },
   "outputs": [],
   "source": [
    "from scipy.optimize import fmin_tnc"
   ]
  },
  {
   "cell_type": "code",
   "execution_count": 32,
   "metadata": {
    "collapsed": false
   },
   "outputs": [
    {
     "data": {
      "text/plain": [
       "<matplotlib.legend.Legend at 0xbb230f0>"
      ]
     },
     "execution_count": 32,
     "metadata": {},
     "output_type": "execute_result"
    },
    {
     "data": {
      "image/png": "[encoded data removed]",
      "text/plain": [
       "<matplotlib.figure.Figure at 0xbb23080>"
      ]
     },
     "metadata": {},
     "output_type": "display_data"
    }
   ],
   "source": [
    "[result, nfeval, rc] = fmin_tnc(func=costwReg, x0=initial_theta, fprime=gradwReg, args=(X0, y0, lam))\n",
    "\n",
    "plotDecisionBoundary(result, X0, y0)\n",
    "plt.xlabel('Microchip Test 1')\n",
    "plt.ylabel('Mircochip Test 2')\n",
    "plt.legend(loc='best', numpoints=1)"
   ]
  },
  {
   "cell_type": "code",
   "execution_count": 33,
   "metadata": {
    "collapsed": false,
    "scrolled": false
   },
   "outputs": [
    {
     "name": "stdout",
     "output_type": "stream",
     "text": [
      "Accuracy = 83.1 percent\n"
     ]
    }
   ],
   "source": [
    "prob = sigmoid(dot(X0, result.T))\n",
    "prob[prob>=0.5]=1\n",
    "prob[prob<0.5]=0\n",
    "a = zeros(len(y0))\n",
    "acc = a[prob==y0].size/prob.size*100\n",
    "print('Accuracy = %.1f percent' %acc)"
   ]
  },
  {
   "cell_type": "code",
   "execution_count": null,
   "metadata": {
    "collapsed": false
   },
   "outputs": [],
   "source": []
  },
  {
   "cell_type": "code",
   "execution_count": null,
   "metadata": {
    "collapsed": false
   },
   "outputs": [],
   "source": []
  },
  {
   "cell_type": "code",
   "execution_count": null,
   "metadata": {
    "collapsed": false,
    "scrolled": false
   },
   "outputs": [],
   "source": []
  },
  {
   "cell_type": "code",
   "execution_count": null,
   "metadata": {
    "collapsed": false
   },
   "outputs": [],
   "source": []
  },
  {
   "cell_type": "code",
   "execution_count": null,
   "metadata": {
    "collapsed": false,
    "scrolled": false
   },
   "outputs": [],
   "source": []
  },
  {
   "cell_type": "code",
   "execution_count": null,
   "metadata": {
    "collapsed": false,
    "scrolled": true
   },
   "outputs": [],
   "source": []
  },
  {
   "cell_type": "code",
   "execution_count": null,
   "metadata": {
    "collapsed": false
   },
   "outputs": [],
   "source": []
  },
  {
   "cell_type": "code",
   "execution_count": null,
   "metadata": {
    "collapsed": false
   },
   "outputs": [],
   "source": []
  },
  {
   "cell_type": "code",
   "execution_count": null,
   "metadata": {
    "collapsed": true
   },
   "outputs": [],
   "source": []
  }
 ],
 "metadata": {
  "anaconda-cloud": {},
  "kernelspec": {
   "display_name": "Python [Root]",
   "language": "python",
   "name": "Python [Root]"
  },
  "language_info": {
   "codemirror_mode": {
    "name": "ipython",
    "version": 3
   },
   "file_extension": ".py",
   "mimetype": "text/x-python",
   "name": "python",
   "nbconvert_exporter": "python",
   "pygments_lexer": "ipython3",
   "version": "3.5.2"
  }
 },
 "nbformat": 4,
 "nbformat_minor": 0
}
