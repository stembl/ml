{
 "cells": [
  {
   "cell_type": "markdown",
   "metadata": {},
   "source": [
    "Implementing the first three weeks of the Coursera Stanford Machine learning class"
   ]
  },
  {
   "cell_type": "code",
   "execution_count": 68,
   "metadata": {
    "collapsed": true
   },
   "outputs": [],
   "source": [
    "import scipy as sp\n",
    "import matplotlib.pyplot as plt\n",
    "\n"
   ]
  },
  {
   "cell_type": "markdown",
   "metadata": {
    "collapsed": false
   },
   "source": [
    "## Functions"
   ]
  },
  {
   "cell_type": "code",
   "execution_count": 69,
   "metadata": {
    "collapsed": true
   },
   "outputs": [],
   "source": [
    "def sigmoid(z):\n",
    "    '''\n",
    "    Compute the Sigmoid function\n",
    "    \n",
    "    g = sigmoid(z) returns the sigmoid of z\n",
    "    \n",
    "    z can be a matrix, vector, or scalar\n",
    "    '''\n",
    "    from scipy import exp\n",
    "    \n",
    "    g = 1/(1 + exp(-z))\n",
    "    \n",
    "    "
   ]
  },
  {
   "cell_type": "code",
   "execution_count": 70,
   "metadata": {
    "collapsed": true
   },
   "outputs": [],
   "source": [
    "def costLogReg (theta, X, y):\n",
    "    '''\n",
    "    Return the cost and gradient [J, grad] for a logistic regression.\n",
    "    \n",
    "    theta ~ Hypothesis parameters for the regularized logistic regression\n",
    "    X     ~ Input values\n",
    "    y     ~ Output variables or features\n",
    "    '''\n",
    "    \n",
    "    # m ~ number of training examples\n",
    "    # n ~ number of features\n",
    "    [m, n] = X.shape\n",
    "    \n",
    "    # Initialize variables\n",
    "    J = 0\n",
    "    grad = sp.zeros([n,1])\n",
    "    \n",
    "    # Hypothesis function for logistic regression\n",
    "    h = sigmoid(sp.dot(M, theta))\n",
    "    \n",
    "    J = (1/m) * (-y.T * sp.log(h) - (1 - y).T * sp.log(1 - h))\n",
    "    \n",
    "    grad = (1/m) * sp.sum((h - y) * X, 1)\n",
    "    \n",
    "    return([J, grad])"
   ]
  },
  {
   "cell_type": "code",
   "execution_count": 71,
   "metadata": {
    "collapsed": false
   },
   "outputs": [],
   "source": [
    "def costLogRegwReg (theta, X, y, lam):\n",
    "    '''\n",
    "    Return the cost and gradient [J, grad] for a logistic regression with regularization.\n",
    "    \n",
    "    This function adds the effects of regularization to the results of the costLogReg function.\n",
    "    \n",
    "    theta ~ Hypothesis parameters for the regularized logistic regression\n",
    "    X     ~ Input values\n",
    "    y     ~ Output variables or features\n",
    "    lam   ~ (lambda) Regularization parameter\n",
    "    '''\n",
    "    \n",
    "    # m ~ number of training examples\n",
    "    # n ~ number of features\n",
    "    [m, n] = X.shape\n",
    "    \n",
    "    # Lambda should not be applied to theta_0\n",
    "    lam = lam * sp.ones([n,1])\n",
    "    lam[0] = 0\n",
    "    \n",
    "    [J, grad] = costLogReg(theta, X, y)\n",
    "    \n",
    "    J = J + lam.T / (2*m) * theta**2\n",
    "    \n",
    "    grad = grad + (lam*theta/m).T\n",
    "    \n",
    "    return([J, grad])"
   ]
  },
  {
   "cell_type": "code",
   "execution_count": 170,
   "metadata": {
    "collapsed": false
   },
   "outputs": [],
   "source": [
    "def plotData(X, y):\n",
    "    '''\n",
    "    Plots the datapoints X and y into a new figure.\n",
    "    \n",
    "    Assumes \n",
    "    * X is an M x 2 matrix\n",
    "    * y is a series consisting of 1s and 0s\n",
    "    '''\n",
    "    \n",
    "    import matplotlib.pyplot as plt\n",
    "    \n",
    "    pos = X[y==1]\n",
    "    neg = X[y==0]\n",
    "    \n",
    "    plt.figure()\n",
    "    plt.plot(pos[0],pos[1], 'yo', label='y = 1')\n",
    "    plt.plot(neg[0],neg[1], 'k+', label='y = 0')"
   ]
  },
  {
   "cell_type": "code",
   "execution_count": null,
   "metadata": {
    "collapsed": true
   },
   "outputs": [],
   "source": [
    "def mapFeature(X1, X2):\n",
    "    '''\n",
    "    Maps the input features to polynomial features\n",
    "    \n",
    "    For example\n",
    "    \n",
    "    '''"
   ]
  },
  {
   "cell_type": "code",
   "execution_count": null,
   "metadata": {
    "collapsed": false
   },
   "outputs": [],
   "source": []
  },
  {
   "cell_type": "markdown",
   "metadata": {
    "collapsed": false
   },
   "source": [
    "## Test"
   ]
  },
  {
   "cell_type": "code",
   "execution_count": 129,
   "metadata": {
    "collapsed": false
   },
   "outputs": [],
   "source": [
    "import pandas as pd\n",
    "%matplotlib inline\n"
   ]
  },
  {
   "cell_type": "code",
   "execution_count": 172,
   "metadata": {
    "collapsed": false
   },
   "outputs": [
    {
     "data": {
      "text/plain": [
       "<matplotlib.legend.Legend at 0xc42e048>"
      ]
     },
     "execution_count": 172,
     "metadata": {},
     "output_type": "execute_result"
    },
    {
     "data": {
      "image/png": "[encoded data removed]",
      "text/plain": [
       "<matplotlib.figure.Figure at 0xc4292e8>"
      ]
     },
     "metadata": {},
     "output_type": "display_data"
    }
   ],
   "source": [
    "data = pd.read_csv('C:\\work\\ml\\coursera-stanford\\exercises\\ex2\\ex2data2.txt', header=None)\n",
    "X = data.iloc[:,:2]\n",
    "y = data.iloc[:,2]\n",
    "plotData(X,y)\n",
    "plt.xlabel('Microchip Test 1')\n",
    "plt.ylabel('Mircochip Test 2')\n",
    "plt.legend(loc='best', numpoints=1)"
   ]
  },
  {
   "cell_type": "code",
   "execution_count": null,
   "metadata": {
    "collapsed": false
   },
   "outputs": [],
   "source": []
  },
  {
   "cell_type": "code",
   "execution_count": null,
   "metadata": {
    "collapsed": false
   },
   "outputs": [],
   "source": []
  },
  {
   "cell_type": "code",
   "execution_count": null,
   "metadata": {
    "collapsed": false
   },
   "outputs": [],
   "source": []
  },
  {
   "cell_type": "code",
   "execution_count": null,
   "metadata": {
    "collapsed": true
   },
   "outputs": [],
   "source": []
  }
 ],
 "metadata": {
  "anaconda-cloud": {},
  "kernelspec": {
   "display_name": "Python [Root]",
   "language": "python",
   "name": "Python [Root]"
  },
  "language_info": {
   "codemirror_mode": {
    "name": "ipython",
    "version": 3
   },
   "file_extension": ".py",
   "mimetype": "text/x-python",
   "name": "python",
   "nbconvert_exporter": "python",
   "pygments_lexer": "ipython3",
   "version": "3.5.2"
  }
 },
 "nbformat": 4,
 "nbformat_minor": 0
}
