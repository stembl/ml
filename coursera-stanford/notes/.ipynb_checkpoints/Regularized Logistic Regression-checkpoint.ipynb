{
 "cells": [
  {
   "cell_type": "markdown",
   "metadata": {},
   "source": [
    "Implementing the first three weeks of the Coursera Stanford Machine learning class"
   ]
  },
  {
   "cell_type": "code",
   "execution_count": 1,
   "metadata": {
    "collapsed": true
   },
   "outputs": [],
   "source": [
    "import scipy as sp\n",
    "import matplotlib.pyplot as plt\n",
    "\n"
   ]
  },
  {
   "cell_type": "code",
   "execution_count": 4,
   "metadata": {
    "collapsed": false
   },
   "outputs": [],
   "source": []
  },
  {
   "cell_type": "code",
   "execution_count": 5,
   "metadata": {
    "collapsed": true
   },
   "outputs": [],
   "source": [
    "def sigmoid(z):\n",
    "    '''\n",
    "    Compute the Sigmoid function\n",
    "    \n",
    "    g = sigmoid(z) returns the sigmoid of z\n",
    "    \n",
    "    z can be a matrix, vector, or scalar\n",
    "    '''\n",
    "    from scipy import exp\n",
    "    \n",
    "    g = 1/(1 + exp(-z))\n",
    "    \n",
    "    "
   ]
  },
  {
   "cell_type": "code",
   "execution_count": 6,
   "metadata": {
    "collapsed": true
   },
   "outputs": [],
   "source": [
    "def costFunctionReg (theta, X, y, lam):\n",
    "    '''\n",
    "    Return the cost and gradient [J, grad] for a logistic regression with regularization.\n",
    "    \n",
    "    theta ~ Hypothesis parameters for the regularized logistic regression\n",
    "    X     ~ Input values\n",
    "    y     ~ Output variables or features\n",
    "    lam   ~ (lambda) Regularization parameter\n",
    "    '''\n",
    "    \n",
    "    # m ~ number of training examples\n",
    "    # n ~ number of features\n",
    "    [m, n] = X.shape\n",
    "    \n",
    "    # Initialize variables\n",
    "    J = 0\n",
    "    grad = sp.zeros([n,1])\n",
    "    \n",
    "    # Hypothesis function for logistic regression\n",
    "    h = sigmoid(sp.dot(M, theta))\n",
    "    \n",
    "    # Lambda should not be applied to theta_0\n",
    "    lam = lam * sp.ones([n,1])\n",
    "    lam[0] = 0\n",
    "    \n",
    "    J = (1/m) * (-y.T * sp.log(h) - (1 - y).T * sp.log(1 - h))\n",
    "        + lam.T / (2*m) * theta**2\n",
    "    \n",
    "    grad = (1/m) * sp.sum((h - y) * X, 1) + (lam*theta/m).T\n",
    "    \n",
    "    return([J, grad])"
   ]
  },
  {
   "cell_type": "code",
   "execution_count": null,
   "metadata": {
    "collapsed": false
   },
   "outputs": [],
   "source": []
  },
  {
   "cell_type": "code",
   "execution_count": null,
   "metadata": {
    "collapsed": false
   },
   "outputs": [],
   "source": []
  },
  {
   "cell_type": "code",
   "execution_count": null,
   "metadata": {
    "collapsed": false
   },
   "outputs": [],
   "source": []
  },
  {
   "cell_type": "code",
   "execution_count": null,
   "metadata": {
    "collapsed": false
   },
   "outputs": [],
   "source": []
  },
  {
   "cell_type": "code",
   "execution_count": null,
   "metadata": {
    "collapsed": false
   },
   "outputs": [],
   "source": []
  },
  {
   "cell_type": "code",
   "execution_count": null,
   "metadata": {
    "collapsed": false
   },
   "outputs": [],
   "source": []
  },
  {
   "cell_type": "code",
   "execution_count": null,
   "metadata": {
    "collapsed": false
   },
   "outputs": [],
   "source": []
  },
  {
   "cell_type": "code",
   "execution_count": null,
   "metadata": {
    "collapsed": true
   },
   "outputs": [],
   "source": []
  }
 ],
 "metadata": {
  "kernelspec": {
   "display_name": "Python [Root]",
   "language": "python",
   "name": "Python [Root]"
  },
  "language_info": {
   "codemirror_mode": {
    "name": "ipython",
    "version": 3
   },
   "file_extension": ".py",
   "mimetype": "text/x-python",
   "name": "python",
   "nbconvert_exporter": "python",
   "pygments_lexer": "ipython3",
   "version": "3.5.2"
  }
 },
 "nbformat": 4,
 "nbformat_minor": 0
}
