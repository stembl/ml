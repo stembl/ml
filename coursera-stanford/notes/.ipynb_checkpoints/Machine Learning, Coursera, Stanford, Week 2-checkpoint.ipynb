{
 "cells": [
  {
   "cell_type": "markdown",
   "metadata": {},
   "source": [
    "Week Two - 20170410\n",
    "# Linear Regression with Multiple Variables\n",
    "A new version of linear version that is more powerful."
   ]
  },
  {
   "cell_type": "markdown",
   "metadata": {},
   "source": [
    "## Multivariate Linear Regression\n",
    "Notation\n",
    "* $m$ ~ number of training examples \n",
    "* $n = |x^{(i)}|$ ~ number of features\n",
    "* $x^{(i)}$ ~ input (features) of the $i^{th}$ training example\n",
    "* $x_j^{(i)}$ ~ value of the feature $j$ in the $i^{th}$ training example\n"
   ]
  },
  {
   "cell_type": "markdown",
   "metadata": {},
   "source": [
    "### Multiple Features\n",
    "For convenience of notation, define $x_0 = 1$ ($x_0^{(i)} = 1$).\n",
    "\n",
    "$\\begin{align*}h_\\theta(x) =\\begin{bmatrix}\\theta_0 \\hspace{2em} \\theta_1 \\hspace{2em} ... \\hspace{2em} \\theta_n\\end{bmatrix}\\begin{bmatrix}x_0 \\newline x_1 \\newline \\vdots \\newline x_n\\end{bmatrix}= \\theta^T x\\end{align*}$"
   ]
  },
  {
   "cell_type": "markdown",
   "metadata": {},
   "source": [
    "### Gradient Descent for Multiple Variables\n",
    "Repeat until convergence:{\n",
    "\n",
    "$\\theta_j := \\theta_j - \\alpha \\frac{1}{m} \\sum\\limits^m_{i=1} ((h_\\theta(x^{(i)}) - y^{(i)}) \\cdot x_j^{(i)}$ for $j:=0,...,n$\n",
    "\n",
    "}."
   ]
  },
  {
   "cell_type": "markdown",
   "metadata": {},
   "source": [
    "#### Feature Scaling\n",
    "* You want your features to be on a similar scale.  If the feature scale has a large difference, it can result in a cost functions with a skewed contour shape increasing the solution time.\n",
    "* Generally try to get every feature to fall in the range $-1 \\leq x_i \\leq 1$.\n",
    "* Problems generally only arrise if the features lie on a different order of magnitude.\n",
    "* Mean normalization is when you replace $x_i$ with $x_i - \\mu_i$ to make the features have approximately zero mean (does not apply to $x_0 = 1$).\n",
    "\n",
    "In general:\n",
    "\n",
    "$x_1 \\leftarrow \\frac{x_1 - \\mu_1}{S_1},$\n",
    "\n",
    "where\n",
    "\n",
    "* $\\mu_j$ is the average value of $x_j$ in the training set\n",
    "* $S_j$ is the range (max - min) or standard deviation\n"
   ]
  },
  {
   "cell_type": "markdown",
   "metadata": {},
   "source": [
    "#### Learning Rate\n",
    "* How to 'debug' the learning rate so that it is opperating correctly.\n",
    "* $J(\\theta)$ should decrease after every iteration. Ploting number of iterations vs min $J(\\theta)$ will illustrate if the system is behaving correctly.  It will also illustrate when $J(\\theta)$ is not decreaseing any more.\n",
    "* It can be difficult to tell how many iterations will be required for the algorithm beforehand to converge. Plotting the aove will help.  Choosing the threshold at which $J(\\theta)$ min change is difficult.  \n",
    "* If $J(\\theta)$ is increasing, use a smaller $\\alpha$\n",
    "* If $J(\\theta)$ has a saw tooth shape, use a smaller $\\alpha$\n",
    "* If $\\alpha$ is to small, $J(\\theta)$ will be slow to converge\n",
    "* To choose $\\alpha$ try $..., 0.001, 0.01, 0.1, 1.0, ...$  Find a value that works and refine.\n"
   ]
  },
  {
   "cell_type": "markdown",
   "metadata": {},
   "source": [
    "### Features and Polynomial Regression\n",
    "* Defining new features may lead to a better model.  ie. area = frontage x depth\n",
    "* Polynomial regression, is the selection of the appropriate order to fit the data.\n",
    "* Example Price vs Size(x), if we believe the size is a cubic function.\n",
    "\n",
    "$\\begin{align}\n",
    "h_\\theta(x)= & \\theta_0+\\theta_1 x_1 + \\theta_2 x_2 + \\theta_3 x_3\\\\\n",
    "           = & \\theta_0 + \\theta_1(size) + \\theta_2(size)^2+\\theta_3(size)^3\\\\\n",
    "        x_1= & (size)\\\\\n",
    "        x_2= & (size)^2\\\\\n",
    "        x_3= & (size)^3\n",
    "\\end{align}$\n",
    "\n",
    "* Another option may be $h_\\theta(x) = \\theta_0 + \\theta_1(size) + \\theta_2\\sqrt{(size)}$"
   ]
  },
  {
   "cell_type": "markdown",
   "metadata": {},
   "source": [
    "## Computing Parameters Analytically"
   ]
  },
  {
   "cell_type": "markdown",
   "metadata": {},
   "source": [
    "### Normal Equations"
   ]
  },
  {
   "cell_type": "markdown",
   "metadata": {},
   "source": [
    "### Normal Equation and Noninvertibility"
   ]
  },
  {
   "cell_type": "markdown",
   "metadata": {},
   "source": []
  },
  {
   "cell_type": "code",
   "execution_count": null,
   "metadata": {
    "collapsed": true
   },
   "outputs": [],
   "source": []
  }
 ],
 "metadata": {
  "kernelspec": {
   "display_name": "Python 2",
   "language": "python",
   "name": "python2"
  },
  "language_info": {
   "codemirror_mode": {
    "name": "ipython",
    "version": 2
   },
   "file_extension": ".py",
   "mimetype": "text/x-python",
   "name": "python",
   "nbconvert_exporter": "python",
   "pygments_lexer": "ipython2",
   "version": "2.7.13"
  }
 },
 "nbformat": 4,
 "nbformat_minor": 2
}
