{
 "cells": [
  {
   "cell_type": "markdown",
   "metadata": {},
   "source": [
    "# Machine Learning Notes\n",
    "## Stanford Coursera Class\n",
    "Week One - 4/7/2017"
   ]
  },
  {
   "cell_type": "markdown",
   "metadata": {},
   "source": [
    "## Introduction"
   ]
  },
  {
   "cell_type": "markdown",
   "metadata": {},
   "source": [
    "### Supervised Learning\n",
    "Where the \"right answers\" are given.\n",
    "\n",
    "For example:\n",
    "* Housing prices based on square foot\n",
    "* Stock market, volume of shares traded in a day\n",
    "* Will it rain on a given day\n",
    "* Based on tumor size, is it malignant or benign\n",
    "* Is an author male or female based on previous works\n",
    "* Final height and weight of a child based on historical data\n",
    "\n",
    "Supervised learning problems are categorized into Regression and Classification problems.\n",
    "\n",
    "#### Regression \n",
    "Problem where we are trying to predict a continuous value output. Mapping input variables onto a continuous function.\n",
    "\n",
    "For example:\n",
    "* How many items will sell over the next 3 months\n",
    "* Predicting price of a house based on square footage.  Price is a function of size.\n",
    "* Predicting a persons age based on a given picture\n",
    "\n",
    "#### Classification\n",
    "Problem where we are trying to predict a discrete valued output\n",
    "\n",
    "For example:\n",
    "* Predicting whether a house will sell for more (1) or less(0) than an asking price.\n",
    "* Is the tumor malignant (1) or benign (0).\n",
    "* Is the account hacked or not\n",
    "\n",
    "A Learning algorithm can deal with an infinite number of attributes.\n",
    "\n"
   ]
  },
  {
   "cell_type": "markdown",
   "metadata": {},
   "source": [
    "### Unsupervised Learning\n",
    "* Data all has the same label.  \"Here is the data set, can you find some structure in the data?\"\n",
    "* Allows you to approach a problem with little to no idea what the result should look like.\n",
    "* Given a dataset, an algorithm may determine the data is clustered.  This is called a clustering algorithm.\n",
    "* Non-clustering (aka Cocktail Party Algorithm) allows you to find structure in a chaotic environment.\n",
    "\n",
    "#### Clustering Algorithm\n",
    "\n",
    "For example:\n",
    "* Google News.  Google looks at 1000's of stories and clusters them based on a theme.  ie BP oil spill\n",
    "* DNA Microarray.  Grouping individuals based on whether a gene is present.  The algorithm is not told information about the people. \n",
    "* Social Network Analysis. Google groups identifies cohesive gorups of friends based on people you email the most.\n",
    "* Market Segmentation.  Given customer data, but not what market segment the customer lies in.\n",
    "* Astronomical Data Analysis.  \n",
    "\n",
    "#### Cocktail Party\n",
    "Clusters the signal received and tries to differentiate the sources.\n",
    "\n",
    "?What are the variables it is using to compute this?\n",
    "\n",
    "\n",
    "Cocktail party examples performed with a single line of code:\n",
    "\n",
    "$[W,s,v] = svd((repmat(sum(x.*x,1)size(x,1),1).*x)*x')$\n",
    "\n",
    "#### Octave\n",
    "Software often implemented in octave first.  The algorithm svd() is simple in Octave as opposed to C++ or java.  In R, many of the ML techiques are already implemented at a high level reducing the learning opportunity."
   ]
  },
  {
   "cell_type": "markdown",
   "metadata": {},
   "source": [
    "## Model and Cost Function"
   ]
  },
  {
   "cell_type": "markdown",
   "metadata": {},
   "source": [
    "### Model Representation\n",
    "\n",
    "* Our first algorithm will be Linear Regression.\n",
    "\n",
    "Notation:\n",
    "* m   ~  Number of training examples\n",
    "* $x^{(i)}$ ~ \"Input\" variable / features\n",
    "* $y^{(i)}$ ~ \"Output\" variable / features\n",
    "* $(x^{(i)},y^{(i)})$ ~ a training example\n",
    "* $(x^{(i)},y^{(i)}); i=1,...,m$ ~ a dataset or list of $m$ training examples\n",
    "* $X$ ~ denotes the space of input values\n",
    "* $Y$ ~ denotes the space of output values\n",
    "* $h$ ~ Hypothesis.  The hypothesis takes the input and trys to estimate the price.\n",
    "\n",
    "For the next few videos the hypthoesis will be represented as:\n",
    "\n",
    "$h_\\theta(x) = \\theta_0 + \\theta_1 x$, shorthand: $h(x)$\n",
    "\n",
    "* This model is called univariate linear regression\n",
    "* Univariate means a single variable\n",
    "\n",
    "For a supervised learning problem, our goal, given a training set, is to learn a function $h:X\\rightarrow Y$ so that $h(x)$ is a \"good\" predictor for the corresponding value of $y$."
   ]
  },
  {
   "cell_type": "markdown",
   "metadata": {},
   "source": [
    "### Cost Function\n",
    "\n",
    "* Given a hypothesis, $h_\\theta(x) = \\theta_0 + \\theta_1 x$, the parameters are $\\theta_0$ and $\\theta_1$.\n",
    "* To choose parameters, solve the minimization problem:\n",
    "    * minimize $\\theta_0, \\theta_1$\n",
    "    * $\\frac{1}{2m}\\sum\\limits^m_{i=1} (h_\\theta(x^{(i)}) - y^{(i)})^2$, $h_\\theta(x) = \\theta_0 + \\theta_1 x$\n",
    "    * By convention, the cost function: $J(\\theta_0,\\theta_1)=\\frac{1}{2m}\\sum\\limits^m_{i=1} (h_\\theta(x^{(i)}) - y^{(i)})^2$, $\\underset{\\theta_0,\\theta_1}{\\text{minimize}}$ $J(\\theta_0,\\theta_1)$.\n",
    "    * The squared error cost function is a reasonalbe choice for a regression problem. aka mean squared error function.\n",
    "    * The $1/2m$ constant at the front doesn't change the value, but simplifies the problem\n",
    "    "
   ]
  },
  {
   "cell_type": "markdown",
   "metadata": {},
   "source": [
    "### Cost Function Intuition\n",
    "Previously:\n",
    "\n",
    "Hypothesis: $h_\\theta(x) = \\theta_0 + \\theta_1 x$\n",
    "\n",
    "Parameters: $\\theta_0, \\theta_1$\n",
    "\n",
    "Cost Function: $J(\\theta_0,\\theta_1)=\\frac{1}{2m}\\sum\\limits^m_{i=1} (h_\\theta(x^{(i)}) - y^{(i)})^2$\n",
    "\n",
    "Goal: $\\underset{\\theta_0,\\theta_1}{\\text{minimize}}$ $J(\\theta_0,\\theta_1)$\n",
    "\n",
    "For this example we will use a simplified hypothesis.\n",
    "\n",
    "Hypothesis: $h_\\theta(x) = \\theta_1 x$\n",
    "\n",
    "Parameters: $\\theta_1$\n",
    "\n",
    "Cost Function: $J(\\theta_1)=\\frac{1}{2m}\\sum\\limits^m_{i=1} (h_\\theta(x^{(i)}) - y^{(i)})^2$\n",
    "\n",
    "Goal: $\\underset{\\theta_1}{\\text{minimize}}$ $J(\\theta_1)$"
   ]
  },
  {
   "cell_type": "code",
   "execution_count": 2,
   "metadata": {
    "collapsed": false
   },
   "outputs": [],
   "source": [
    "# Simple Hypothesis Example\n",
    "import scipy as sp\n",
    "import matplotlib.pyplot as plt\n",
    "% matplotlib inline\n",
    "\n",
    "def simph(theta_1, exp):\n",
    "    m = exp.shape[0]\n",
    "    h = sp.zeros(m)\n",
    "    for i in range(m):\n",
    "        h[i] = theta_1*exp[i,0]\n",
    "    \n",
    "    return(h)\n",
    "\n",
    "def simpj(theta, exp):\n",
    "    '''\n",
    "    theta ~ values of theta to explore\n",
    "    exp ~ example set\n",
    "    '''\n",
    "    m = exp.shape[0]\n",
    "    J = sp.zeros(len(theta))\n",
    "    \n",
    "    for k in range(len(theta)):\n",
    "        h = simph(theta[k], exp)\n",
    "        for i in range(m):\n",
    "            J[k] = J[k] + (h[i] - exp[i,1])**2\n",
    "        J[k] = (1/(2*m))*J[k]\n",
    "    \n",
    "    return(J)\n",
    "    "
   ]
  },
  {
   "cell_type": "code",
   "execution_count": 3,
   "metadata": {
    "collapsed": false
   },
   "outputs": [
    {
     "name": "stdout",
     "output_type": "stream",
     "text": [
      "J is a minimum at theta = 1.0\n"
     ]
    },
    {
     "data": {
      "image/png": "[encoded data removed]",
      "text/plain": [
       "<matplotlib.figure.Figure at 0x772cfd0>"
      ]
     },
     "metadata": {},
     "output_type": "display_data"
    }
   ],
   "source": [
    "exp = sp.array([[1,1],[2,2],[3,3]])\n",
    "\n",
    "theta = sp.linspace(-0.5, 2.5, 99)\n",
    "\n",
    "J = simpj(theta,exp)\n",
    "\n",
    "plt.plot(theta, J)\n",
    "\n",
    "print('J is a minimum at theta = {:1}' .format(theta[J==min(J)][0]))"
   ]
  },
  {
   "cell_type": "markdown",
   "metadata": {
    "collapsed": false
   },
   "source": [
    "## Parameter Learning"
   ]
  },
  {
   "cell_type": "markdown",
   "metadata": {
    "collapsed": true
   },
   "source": [
    "### Gradient Descent\n",
    "* The gradient descent is an algorithm used all over the place in machine learning\n",
    "* This algorithm works for general problems up to $\\theta_n$, but we are only looking at two variables for this explanation\n",
    "* Adjust alpha to ensure the gradient descent converges in a reasonable time\n",
    "* As a local minima is approached the gradient descent automatically takes smaller steps, no need to decrease $\\alpha$ over time\n",
    "\n",
    "\n",
    "Terminology\n",
    "* := ~ Assignment, a := b -> set the value of a equal to b\n",
    "* $\\alpha$ ~ Learning rate, how big of steps are taken\n",
    "* m ~ size of the training set\n",
    "\n",
    "\n",
    "#### Gradient Descent Algorithm\n",
    "\n",
    "Repeat until convergence:\n",
    "\n",
    "$\\theta_j := \\theta_j - \\alpha \\frac{\\partial}{\\partial\\theta_j}J(\\theta_0,\\theta_1)$,\n",
    "\n",
    "where $j=0,1$ represents the feature index number.\n",
    "\n",
    "\n",
    "Correct: Simultaneous update\n",
    "1. $temp0 := \\theta_0 - \\alpha \\frac{\\partial}{\\partial\\theta_0}J(\\theta_0,\\theta_1)$\n",
    "2. $temp1 := \\theta_1 - \\alpha \\frac{\\partial}{\\partial\\theta_1}J(\\theta_0,\\theta_1)$\n",
    "3. $\\theta_0 := temp0$\n",
    "4. $\\theta_1 := temp1$\n",
    "\n",
    "#### Gradient Descent for Linear Regression\n",
    "* aka \"Batch\" gradient descent, because you look at the entire training set as opposed to small subsets of the data.'\n",
    "* Gradien descent scales better than the normal equations method\n",
    "\n",
    "Repeat until convergence:\n",
    "\n",
    "$$\\begin{align}\n",
    "\\theta_0 := &\\theta_0 - \\alpha \\frac{1}{m}\\sum\\limits^m_{i=1} (h_\\theta(x_i) - y_i),\\\\\n",
    "\\theta_1 := &\\theta_1 - \\alpha \\frac{1}{m}\\sum\\limits^m_{i=1} ((h_\\theta(x_i) - y_i)x_i),\\\\\n",
    "\\end{align}$$\n",
    "\n",
    "where $m$ is the size of the training set, $\\theta_0$ a constant that will be changing simultaneously with $\\theta_1$, and $x_i$, $y_i$ are values of the given training set (data).\n"
   ]
  },
  {
   "cell_type": "code",
   "execution_count": null,
   "metadata": {
    "collapsed": false
   },
   "outputs": [],
   "source": []
  },
  {
   "cell_type": "code",
   "execution_count": null,
   "metadata": {
    "collapsed": true
   },
   "outputs": [],
   "source": []
  },
  {
   "cell_type": "code",
   "execution_count": null,
   "metadata": {
    "collapsed": false
   },
   "outputs": [],
   "source": []
  },
  {
   "cell_type": "code",
   "execution_count": null,
   "metadata": {
    "collapsed": false
   },
   "outputs": [],
   "source": []
  },
  {
   "cell_type": "code",
   "execution_count": null,
   "metadata": {
    "collapsed": true
   },
   "outputs": [],
   "source": []
  }
 ],
 "metadata": {
  "kernelspec": {
   "display_name": "Python [Root]",
   "language": "python",
   "name": "Python [Root]"
  },
  "language_info": {
   "codemirror_mode": {
    "name": "ipython",
    "version": 3
   },
   "file_extension": ".py",
   "mimetype": "text/x-python",
   "name": "python",
   "nbconvert_exporter": "python",
   "pygments_lexer": "ipython3",
   "version": "3.5.2"
  }
 },
 "nbformat": 4,
 "nbformat_minor": 0
}
